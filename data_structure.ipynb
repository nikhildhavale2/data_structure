{
  "nbformat": 4,
  "nbformat_minor": 0,
  "metadata": {
    "colab": {
      "provenance": []
    },
    "kernelspec": {
      "name": "python3",
      "display_name": "Python 3"
    },
    "language_info": {
      "name": "python"
    }
  },
  "cells": [
    {
      "cell_type": "markdown",
      "source": [
        "Assignment 2\n",
        "\n",
        "Name = Data Structure\n",
        "\n",
        "# 1. Discuss string slicing and provide examples\n",
        "String slicing is a technique in programming to extract a portion of a string.\n",
        "\n",
        "String\n",
        "\n",
        "A string is a sequence of characters, like \"hello\" or \"world\"."
      ],
      "metadata": {
        "id": "WwP2WIXJtEyl"
      }
    },
    {
      "cell_type": "markdown",
      "source": [
        "Slicing :\n",
        "\n",
        "Slicing is taking a part of a string, similar to cutting out a section of it.\n",
        "\n",
        "In many programming languages, strings are indexed, meaning each character in the string has a position number starting from 0. For example, in the string \"hello\":\n",
        "\n",
        "'h' is at position 0\n",
        "\n",
        "'e' is at position 1\n",
        "\n",
        "'l' is at position 2\n",
        "\n",
        "'l' is at position 3\n",
        "\n",
        "'o' is at position 4"
      ],
      "metadata": {
        "id": "jgZAYR7rC7nv"
      }
    },
    {
      "cell_type": "markdown",
      "source": [
        "Syntax for Slicing\n",
        "To slice a string, you use the format:\n",
        "\n",
        "string[start:end]\n",
        "\n",
        "'start' is the index where you want the slice to begin (inclusive).\n",
        "\n",
        "'end' is the index where you want the slice to stop (exclusive).\n",
        "\n",
        "Basic Example:"
      ],
      "metadata": {
        "id": "z3289BF6DhcO"
      }
    },
    {
      "cell_type": "code",
      "source": [
        "text = \"hello\"\n",
        "sliced_text = text[1:4]\n",
        "print(sliced_text)"
      ],
      "metadata": {
        "colab": {
          "base_uri": "https://localhost:8080/"
        },
        "id": "kwQ4vSdy-rdM",
        "outputId": "822848f9-ecab-4cae-eb24-287ba9b76963"
      },
      "execution_count": 15,
      "outputs": [
        {
          "output_type": "stream",
          "name": "stdout",
          "text": [
            "ell\n"
          ]
        }
      ]
    },
    {
      "cell_type": "markdown",
      "source": [
        "Output: \"ell\"\n",
        "\n",
        "Explanation: This slice starts at index 1 ('e') and ends at index 4 (not including 'o')."
      ],
      "metadata": {
        "id": "8M_6fIeKEBHc"
      }
    },
    {
      "cell_type": "markdown",
      "source": [
        "#2. Explain the key features of lists in python\n",
        "\n",
        "Key Features of Lists\n",
        "\n",
        "You can store anything in list.\n",
        "\n",
        "You can storre heterogenous data in list.\n",
        "\n",
        "List is an ordered collection of elements that can be any data type.\n",
        "\n",
        "List are muttable.\n",
        "\n",
        "Each item in a list has a specific index"
      ],
      "metadata": {
        "id": "6pA6XzxmEUUI"
      }
    },
    {
      "cell_type": "markdown",
      "source": [
        "# 3. Describe how to access, modify, and delete elements in a list with examples\n",
        "\n",
        " Accessing Elements\n",
        "\n",
        "Accessing means getting a specific item from a list. You use an index to do this.\n",
        "\n",
        "Index: Each item in a list has a position number starting from 0.\n",
        "\n",
        "Syntax: 'list[index]'\n",
        "Example:\n"
      ],
      "metadata": {
        "id": "imOyT8sNF-O8"
      }
    },
    {
      "cell_type": "code",
      "source": [
        "fruits = [\"apple\", \"banana\", \"cherry\"]\n",
        "\n",
        "# Access the item at index 1\n",
        "print(fruits[1])  # Output: \"banana\""
      ],
      "metadata": {
        "colab": {
          "base_uri": "https://localhost:8080/"
        },
        "id": "JbG9vOLnGvkN",
        "outputId": "ce1343f2-def0-481b-84bf-3f016524c42c"
      },
      "execution_count": 16,
      "outputs": [
        {
          "output_type": "stream",
          "name": "stdout",
          "text": [
            "banana\n"
          ]
        }
      ]
    },
    {
      "cell_type": "markdown",
      "source": [
        "Modifying Elements\n",
        "\n",
        "Modifying means changing the value of an item in the list.\n",
        "\n",
        "Syntax: 'list[index] = new_value'\n",
        "\n",
        "Example:"
      ],
      "metadata": {
        "id": "yhK84MlTG9O2"
      }
    },
    {
      "cell_type": "code",
      "source": [
        "fruits = [\"apple\", \"banana\", \"cherry\"]\n",
        "\n",
        "# Change the item at index 1 to \"blueberry\"\n",
        "fruits[1] = \"blueberry\"\n",
        "print(fruits)  # Output: [\"apple\", \"blueberry\", \"cherry\"]"
      ],
      "metadata": {
        "colab": {
          "base_uri": "https://localhost:8080/"
        },
        "id": "HUgwviEt-w5v",
        "outputId": "0a663b94-9c96-4179-9e7c-254c3dcea694"
      },
      "execution_count": 17,
      "outputs": [
        {
          "output_type": "stream",
          "name": "stdout",
          "text": [
            "['apple', 'blueberry', 'cherry']\n"
          ]
        }
      ]
    },
    {
      "cell_type": "markdown",
      "source": [
        "Deleting Elements\n",
        "Deleting means removing an item from the list.\n",
        "\n",
        "Syntax 1: 'del list[index]' (Deletes the item at a specific index)\n",
        "\n",
        "Syntax 2: 'list.remove(value)' (Removes the first occurrence of a specific value)\n",
        "\n",
        "Syntax 3: 'list.pop(index)' (Removes and returns the item at a specific index; if no index is provided, it removes the last item)\n",
        "\n",
        "Examples:\n",
        "\n",
        "1. Using 'del':"
      ],
      "metadata": {
        "id": "6Bkiaw37HN_U"
      }
    },
    {
      "cell_type": "code",
      "source": [
        "fruits = [\"apple\", \"banana\", \"cherry\"]\n",
        "\n",
        "# Remove the item at index 1\n",
        "del fruits[1]\n",
        "print(fruits)  # Output: [\"apple\", \"cherry\"]"
      ],
      "metadata": {
        "colab": {
          "base_uri": "https://localhost:8080/"
        },
        "id": "NjZ2ud5UHxGk",
        "outputId": "4f39e210-a484-49a8-fb39-8efe6b8b6c1a"
      },
      "execution_count": 18,
      "outputs": [
        {
          "output_type": "stream",
          "name": "stdout",
          "text": [
            "['apple', 'cherry']\n"
          ]
        }
      ]
    },
    {
      "cell_type": "markdown",
      "source": [
        "2. Using 'remove()':"
      ],
      "metadata": {
        "id": "xqNeFM0ZH39T"
      }
    },
    {
      "cell_type": "code",
      "source": [
        "fruits = [\"apple\", \"banana\", \"cherry\"]\n",
        "\n",
        "# Remove the first occurrence of \"banana\"\n",
        "fruits.remove(\"banana\")\n",
        "print(fruits)  # Output: [\"apple\", \"cherry\"]"
      ],
      "metadata": {
        "colab": {
          "base_uri": "https://localhost:8080/"
        },
        "id": "UHsISXUBH9ZE",
        "outputId": "2b8a73ba-1014-4ec9-e861-4715a9aad9fc"
      },
      "execution_count": 19,
      "outputs": [
        {
          "output_type": "stream",
          "name": "stdout",
          "text": [
            "['apple', 'cherry']\n"
          ]
        }
      ]
    },
    {
      "cell_type": "markdown",
      "source": [
        "3. Using 'pop()':"
      ],
      "metadata": {
        "id": "ctu_ELMMIDpL"
      }
    },
    {
      "cell_type": "code",
      "source": [
        "fruits = [\"apple\", \"banana\", \"cherry\"]\n",
        "\n",
        "# Remove and return the item at index 1\n",
        "removed_item = fruits.pop(1)\n",
        "print(fruits)  # Output: [\"apple\", \"cherry\"]\n"
      ],
      "metadata": {
        "colab": {
          "base_uri": "https://localhost:8080/"
        },
        "id": "wVQyI_oNIZTV",
        "outputId": "320fdb9e-c31d-4a5e-ac37-0617cb1cd650"
      },
      "execution_count": 22,
      "outputs": [
        {
          "output_type": "stream",
          "name": "stdout",
          "text": [
            "['apple', 'cherry']\n"
          ]
        }
      ]
    },
    {
      "cell_type": "markdown",
      "source": [
        "# 4. Compare and contrast tuples and lists with examples\n",
        "\n",
        "Tuples and Lists are both ways to store collections of items in Python, but they have some key differences.\n",
        "\n",
        "**1. Structure:**\n",
        "\n",
        "**Lists:** A list is like a box where you can put things in and take them out. You can also change the things inside. For example:\n",
        "\n"
      ],
      "metadata": {
        "id": "yVfFKF5MIlN8"
      }
    },
    {
      "cell_type": "code",
      "source": [
        "my_list = [1, 2, 3, 4]  # A list with 4 items\n",
        "my_list[2] = 10  # You can change the third item\n",
        "print(my_list)  # Output: [1, 2, 10, 4]"
      ],
      "metadata": {
        "colab": {
          "base_uri": "https://localhost:8080/"
        },
        "id": "RTPvqebJJxeU",
        "outputId": "ac6f0852-f3cc-43b7-d323-53b28a19a613"
      },
      "execution_count": 23,
      "outputs": [
        {
          "output_type": "stream",
          "name": "stdout",
          "text": [
            "[1, 2, 10, 4]\n"
          ]
        }
      ]
    },
    {
      "cell_type": "markdown",
      "source": [
        "**Tuples:** A tuple is like a sealed box. Once you put things inside, you cannot change them. For example:"
      ],
      "metadata": {
        "id": "yEW0VI8BKKbj"
      }
    },
    {
      "cell_type": "code",
      "source": [
        "my_tuple = (1, 2, 3, 4)  # A tuple with 4 items\n",
        "# my_tuple[2] = 10  # This would cause an error because tuples can't be changed\n",
        "print(my_tuple)  # Output: (1, 2, 3, 4)"
      ],
      "metadata": {
        "colab": {
          "base_uri": "https://localhost:8080/"
        },
        "id": "CHsx69YZKNdS",
        "outputId": "3b470789-99f1-4c67-d398-4ee7a4af3c2c"
      },
      "execution_count": 24,
      "outputs": [
        {
          "output_type": "stream",
          "name": "stdout",
          "text": [
            "(1, 2, 3, 4)\n"
          ]
        }
      ]
    },
    {
      "cell_type": "markdown",
      "source": [
        "**2. Flexibility:**\n",
        "\n",
        "**Lists:** You can add, remove, or change items in a list anytime."
      ],
      "metadata": {
        "id": "F9vOaCw7KmDw"
      }
    },
    {
      "cell_type": "code",
      "source": [
        "my_list.append(5)  # Add 5 to the list\n",
        "print(my_list)  # Output: [1, 2, 10, 4, 5]"
      ],
      "metadata": {
        "colab": {
          "base_uri": "https://localhost:8080/"
        },
        "id": "zzlLEReoKol2",
        "outputId": "e008bf0f-c805-4664-f8b0-0067457a0c8c"
      },
      "execution_count": 25,
      "outputs": [
        {
          "output_type": "stream",
          "name": "stdout",
          "text": [
            "[1, 2, 10, 4, 5]\n"
          ]
        }
      ]
    },
    {
      "cell_type": "markdown",
      "source": [
        "**Tuples:** You cannot add, remove, or change items in a tuple after it's created."
      ],
      "metadata": {
        "id": "5h1FV2VxK3bk"
      }
    },
    {
      "cell_type": "code",
      "source": [
        "# my_tuple.append(5)  # This would cause an error"
      ],
      "metadata": {
        "id": "tNu2q_CeK5km"
      },
      "execution_count": 26,
      "outputs": []
    },
    {
      "cell_type": "markdown",
      "source": [
        "**3. Use Cases:**\n",
        "\n",
        "**Lists:** Use lists when you need a collection that might change over time. For example, a shopping list that you update regularly."
      ],
      "metadata": {
        "id": "QUbktGMvK9dD"
      }
    },
    {
      "cell_type": "code",
      "source": [
        "shopping_list = [\"milk\", \"eggs\", \"bread\"]\n",
        "shopping_list.append(\"butter\")\n",
        "print(shopping_list)  # Output: [\"milk\", \"eggs\", \"bread\", \"butter\"]"
      ],
      "metadata": {
        "colab": {
          "base_uri": "https://localhost:8080/"
        },
        "id": "gZ46xrwILDeE",
        "outputId": "7cbd7589-4d38-47d2-bc4c-e5f44b5f415d"
      },
      "execution_count": 27,
      "outputs": [
        {
          "output_type": "stream",
          "name": "stdout",
          "text": [
            "['milk', 'eggs', 'bread', 'butter']\n"
          ]
        }
      ]
    },
    {
      "cell_type": "markdown",
      "source": [
        "**Tuples:** Use tuples when you have a fixed collection of items that shouldn’t change, like the coordinates of a point in a graph."
      ],
      "metadata": {
        "id": "qfOD0Ld3LNLD"
      }
    },
    {
      "cell_type": "code",
      "source": [
        "point = (4, 5)  # The coordinates of a point (4, 5) won't change"
      ],
      "metadata": {
        "id": "Er7mPIRLLQqF"
      },
      "execution_count": 28,
      "outputs": []
    },
    {
      "cell_type": "markdown",
      "source": [
        "**4. Speed:**\n",
        "**Lists:** Lists are slightly slower because they are more flexible.\n",
        "\n",
        "**Tuples:** Tuples are faster because they are fixed.\n",
        "\n",
        "**5. Syntax:**\n",
        "\n",
        "**Lists:** Use square brackets [].\n",
        "\n",
        "**Tuples:** Use parentheses ().\n",
        "\n",
        "**Summary:**\n",
        "\n",
        "Use lists when you need a collection that can change.\n",
        "\n",
        "Use tuples when you need a collection that stays the same."
      ],
      "metadata": {
        "id": "96LSBQ_9LgI7"
      }
    },
    {
      "cell_type": "markdown",
      "source": [
        "# 5. Describe the key features of sets and provide examples of their use.\n",
        "\n",
        "Python are a way to store collections of unique items.\n",
        "\n",
        "**1. Unique Items:**\n",
        "\n",
        "Sets only keep unique items. If you try to add the same item twice, the set will ignore the duplicate.\n"
      ],
      "metadata": {
        "id": "JtDpLG5JL1a2"
      }
    },
    {
      "cell_type": "code",
      "source": [
        "my_set = {1, 2, 3, 3, 4}  # 3 is repeated\n",
        "print(my_set)  # Output: {1, 2, 3, 4}  # Only one '3' is kept"
      ],
      "metadata": {
        "colab": {
          "base_uri": "https://localhost:8080/"
        },
        "id": "yTYFcUwjMUfE",
        "outputId": "7d03a2df-a62c-4814-ddfa-013e8e91892f"
      },
      "execution_count": 29,
      "outputs": [
        {
          "output_type": "stream",
          "name": "stdout",
          "text": [
            "{1, 2, 3, 4}\n"
          ]
        }
      ]
    },
    {
      "cell_type": "markdown",
      "source": [
        "**2. Unordered:**\n",
        "\n",
        "Sets don’t keep items in any particular order. The items can appear in any order, and it might change each time you use the set."
      ],
      "metadata": {
        "id": "WYGKdM7lMdQ7"
      }
    },
    {
      "cell_type": "code",
      "source": [
        "my_set = {\"apple\", \"banana\", \"cherry\"}\n",
        "print(my_set)  # Output could be {'banana', 'apple', 'cherry'} or in any order"
      ],
      "metadata": {
        "colab": {
          "base_uri": "https://localhost:8080/"
        },
        "id": "2dEfUBT7Moab",
        "outputId": "22833bff-1ed5-49e3-fb74-853a52873364"
      },
      "execution_count": 34,
      "outputs": [
        {
          "output_type": "stream",
          "name": "stdout",
          "text": [
            "{'apple', 'banana', 'cherry'}\n"
          ]
        }
      ]
    },
    {
      "cell_type": "markdown",
      "source": [
        "**3. Mutable (You Can Change Them):**\n",
        "\n",
        "You can add or remove items from a set, but you can't change existing items."
      ],
      "metadata": {
        "id": "Jiwpbwi1Mo8c"
      }
    },
    {
      "cell_type": "markdown",
      "source": [
        "my_set = {1, 2, 3}\n",
        "my_set.add(4)  \n",
        "print(my_set)  \n",
        "\n",
        "my_set.remove(2)\n",
        "print(my_set)  "
      ],
      "metadata": {
        "id": "P_bINgFXMt0z"
      }
    },
    {
      "cell_type": "markdown",
      "source": [
        "**4. No Indexing:**\n",
        "\n",
        "Unlike lists and tuples, you can’t access items in a set by their position because sets are unordered."
      ],
      "metadata": {
        "id": "7KJDXv-3MuKb"
      }
    },
    {
      "cell_type": "code",
      "source": [
        "# You can't do my_set[0] because sets don't have a specific order"
      ],
      "metadata": {
        "id": "te1GvBcBMyxs"
      },
      "execution_count": 32,
      "outputs": []
    },
    {
      "cell_type": "markdown",
      "source": [
        "**Example Use Cases:**\n",
        "\n",
        "**Removing Duplicates:** If you have a list with repeated items, you can use a set to remove the duplicates.\n"
      ],
      "metadata": {
        "id": "5P2n9MWQMzf7"
      }
    },
    {
      "cell_type": "code",
      "source": [
        "my_list = [1, 2, 2, 3, 4, 4, 5]\n",
        "my_set = set(my_list)\n",
        "print(my_set)  # Output: {1, 2, 3, 4, 5}"
      ],
      "metadata": {
        "colab": {
          "base_uri": "https://localhost:8080/"
        },
        "id": "l3mddEWINFwL",
        "outputId": "d20896e0-c92f-405e-919c-7927a76d06ea"
      },
      "execution_count": 31,
      "outputs": [
        {
          "output_type": "stream",
          "name": "stdout",
          "text": [
            "{1, 2, 3, 4, 5}\n"
          ]
        }
      ]
    },
    {
      "cell_type": "markdown",
      "source": [
        "**Finding Common Friends:** If two people have lists of friends, you can use sets to find out which friends they have in common."
      ],
      "metadata": {
        "id": "FsrHs8cGNGOE"
      }
    },
    {
      "cell_type": "code",
      "source": [
        "friends_A = {\"Alice\", \"Bob\", \"Charlie\"}\n",
        "friends_B = {\"Bob\", \"Diana\", \"Charlie\"}\n",
        "common_friends = friends_A.intersection(friends_B)\n",
        "print(common_friends)  # Output: {'Bob', 'Charlie'}"
      ],
      "metadata": {
        "colab": {
          "base_uri": "https://localhost:8080/"
        },
        "id": "zGsVyFoANKgy",
        "outputId": "69e69078-d075-45c7-e989-05697b9fba26"
      },
      "execution_count": 30,
      "outputs": [
        {
          "output_type": "stream",
          "name": "stdout",
          "text": [
            "{'Bob', 'Charlie'}\n"
          ]
        }
      ]
    },
    {
      "cell_type": "markdown",
      "source": [
        "# 6. Discuss the use cases of tuples and sets in python programming.\n",
        "\n",
        "**Use Cases for Tuples in Python:**\n",
        "\n",
        "1. Storing Related Data Together:\n",
        "\n",
        "Example: If you have a person’s information, like their name, age, and city, you can use a tuple to keep this data together."
      ],
      "metadata": {
        "id": "EkrbCfh7NlTN"
      }
    },
    {
      "cell_type": "code",
      "source": [
        "person = (\"Alice\", 30, \"New York\")"
      ],
      "metadata": {
        "id": "O_8q61JcOv2E"
      },
      "execution_count": 35,
      "outputs": []
    },
    {
      "cell_type": "markdown",
      "source": [
        "**Why Tuples?** This data is related, but you don’t want to change it, so a tuple is a good choice."
      ],
      "metadata": {
        "id": "z8DuSp4TO_3W"
      }
    },
    {
      "cell_type": "markdown",
      "source": [
        "2. Returning Multiple Values from Functions:\n",
        "\n",
        "Example: If a function needs to return more than one value, it can return them as a tuple."
      ],
      "metadata": {
        "id": "HMN4q1JaPBsr"
      }
    },
    {
      "cell_type": "code",
      "source": [
        "def get_min_max(numbers):\n",
        "    return (min(numbers), max(numbers))\n",
        "\n",
        "result = get_min_max([3, 5, 1, 9])\n",
        "print(result)  # Output: (1, 9)"
      ],
      "metadata": {
        "colab": {
          "base_uri": "https://localhost:8080/"
        },
        "id": "tuPTT9SbPK0B",
        "outputId": "ba185f01-2901-4421-eb66-ef7c11eb94e4"
      },
      "execution_count": 44,
      "outputs": [
        {
          "output_type": "stream",
          "name": "stdout",
          "text": [
            "(1, 9)\n"
          ]
        }
      ]
    },
    {
      "cell_type": "markdown",
      "source": [
        "Why Tuples? It’s a simple way to group multiple values and return them from a function."
      ],
      "metadata": {
        "id": "18ZmmsL2PlS2"
      }
    },
    {
      "cell_type": "markdown",
      "source": [
        "3. Using as Keys in Dictionaries:\n",
        "\n",
        "Example: Tuples can be used as keys in dictionaries because they are immutable (unchangeable)."
      ],
      "metadata": {
        "id": "pBBoXLwqPodz"
      }
    },
    {
      "cell_type": "code",
      "source": [
        "location = {(40.7128, -74.0060): \"New York\"}"
      ],
      "metadata": {
        "id": "uzllfpVaPs6-"
      },
      "execution_count": 37,
      "outputs": []
    },
    {
      "cell_type": "markdown",
      "source": [
        "Why Tuples? Because tuples don’t change, they’re safe to use as keys where you need a unique identifier."
      ],
      "metadata": {
        "id": "i8Qd3GsNQBOK"
      }
    },
    {
      "cell_type": "markdown",
      "source": [
        "4. Unpacking:\n",
        "\n",
        "Example: You can easily assign values in a tuple to multiple variables."
      ],
      "metadata": {
        "id": "VLVUFOM2QB-7"
      }
    },
    {
      "cell_type": "code",
      "source": [
        "person = (\"Alice\", 30, \"New York\")\n",
        "name, age, city = person\n",
        "print(name)  # Output: Alice"
      ],
      "metadata": {
        "colab": {
          "base_uri": "https://localhost:8080/"
        },
        "id": "ODAPZnKfQGQ0",
        "outputId": "7c80170e-b597-4147-bc3f-4acb1b1e529b"
      },
      "execution_count": 41,
      "outputs": [
        {
          "output_type": "stream",
          "name": "stdout",
          "text": [
            "Alice\n"
          ]
        }
      ]
    },
    {
      "cell_type": "markdown",
      "source": [
        "**Use Cases for Sets in Python:**\n",
        "\n",
        "1. Removing Duplicates from a Collection:\n",
        "\n",
        "Example: If you have a list with repeated items, you can convert it to a set to remove duplicates."
      ],
      "metadata": {
        "id": "2Tooj20PQTYN"
      }
    },
    {
      "cell_type": "code",
      "source": [
        "numbers = [1, 2, 2, 3, 4, 4, 5]\n",
        "unique_numbers = set(numbers)\n",
        "print(unique_numbers)   # Output: {1, 2, 3, 4, 5}"
      ],
      "metadata": {
        "colab": {
          "base_uri": "https://localhost:8080/"
        },
        "id": "jyE5H0iGQXMl",
        "outputId": "3332304f-0912-4c97-8002-e24590227189"
      },
      "execution_count": 40,
      "outputs": [
        {
          "output_type": "stream",
          "name": "stdout",
          "text": [
            "{1, 2, 3, 4, 5}\n"
          ]
        }
      ]
    },
    {
      "cell_type": "markdown",
      "source": [
        "Why Sets? Sets automatically remove duplicates, making them perfect for tasks like this."
      ],
      "metadata": {
        "id": "-ipmyvEWQgjM"
      }
    },
    {
      "cell_type": "markdown",
      "source": [
        "2. Checking Membership:\n",
        "\n",
        "Example: If you need to check whether an item is in a collection, sets allow for quick membership tests."
      ],
      "metadata": {
        "id": "KEpoMqfITdlD"
      }
    },
    {
      "cell_type": "code",
      "source": [
        "fruits = {\"apple\", \"banana\", \"cherry\"}\n",
        "print(\"banana\" in fruits)  # Output: True"
      ],
      "metadata": {
        "colab": {
          "base_uri": "https://localhost:8080/"
        },
        "id": "1lu5tno_TiVM",
        "outputId": "969b3211-d0fb-4243-da4e-723e1d292abe"
      },
      "execution_count": 45,
      "outputs": [
        {
          "output_type": "stream",
          "name": "stdout",
          "text": [
            "True\n"
          ]
        }
      ]
    },
    {
      "cell_type": "markdown",
      "source": [
        "Why Sets? Checking membership in a set is faster than in a list, especially when dealing with large amounts of data."
      ],
      "metadata": {
        "id": "yLUQfLnuTlqC"
      }
    },
    {
      "cell_type": "markdown",
      "source": [
        "3. Mathematical Set Operations:\n",
        "\n",
        "Example: You can use sets for operations like finding the union, intersection, or difference between two sets."
      ],
      "metadata": {
        "id": "cIR9qbt2Tm90"
      }
    },
    {
      "cell_type": "code",
      "source": [
        "A = {1, 2, 3}\n",
        "B = {3, 4, 5}\n",
        "print(A.intersection(B))  # Output: {3}  # Common items\n",
        "print(A.union(B))         # Output: {1, 2, 3, 4, 5}  # All unique items"
      ],
      "metadata": {
        "colab": {
          "base_uri": "https://localhost:8080/"
        },
        "id": "0VPuuHZjTrl6",
        "outputId": "62aeaab9-9af9-49e0-9fbe-c138f2075874"
      },
      "execution_count": 46,
      "outputs": [
        {
          "output_type": "stream",
          "name": "stdout",
          "text": [
            "{3}\n",
            "{1, 2, 3, 4, 5}\n"
          ]
        }
      ]
    },
    {
      "cell_type": "markdown",
      "source": [
        "Why Sets? Sets are designed for these kinds of operations, making the code simple and efficient."
      ],
      "metadata": {
        "id": "rZPlfS7DT9Tq"
      }
    },
    {
      "cell_type": "markdown",
      "source": [
        "4. Managing Unique Items:\n",
        "\n",
        "Example: If you need to maintain a collection of unique items, like usernames or IDs, sets ensure that no duplicates are allowed."
      ],
      "metadata": {
        "id": "ns-m8CG8T_Lm"
      }
    },
    {
      "cell_type": "code",
      "source": [
        "usernames = {\"user1\", \"user2\", \"user3\"}\n",
        "usernames.add(\"user4\")\n",
        "usernames.add(\"user2\")  # Won't add again because it's a duplicate\n",
        "print(usernames)"
      ],
      "metadata": {
        "colab": {
          "base_uri": "https://localhost:8080/"
        },
        "id": "NlnGKd9ZUCK0",
        "outputId": "5a65666a-ba45-4d1f-8a67-f83aa5903ccc"
      },
      "execution_count": 49,
      "outputs": [
        {
          "output_type": "stream",
          "name": "stdout",
          "text": [
            "{'user4', 'user3', 'user2', 'user1'}\n"
          ]
        }
      ]
    },
    {
      "cell_type": "markdown",
      "source": [
        "Why Sets? They naturally prevent duplicates, so you don’t have to check for them manually."
      ],
      "metadata": {
        "id": "2esHnyCtULMx"
      }
    },
    {
      "cell_type": "markdown",
      "source": [
        "# 7. Describe how to add, modify, and delete items in a dictionary with examples.\n",
        "A dictionary in Python is like a real-life dictionary, where you have a word (key) and its meaning (value). You can store, retrieve, add, modify, and delete key-value pairs in a dictionary.\n",
        "\n",
        "**1. Adding Items to a Dictionary**\n",
        "To add an item, you just need to assign a value to a new key in the dictionary.\n",
        "\n",
        "Example:"
      ],
      "metadata": {
        "id": "pOvCy6cIUuJ0"
      }
    },
    {
      "cell_type": "code",
      "source": [
        "# Creating an empty dictionary\n",
        "my_dict = {}\n",
        "\n",
        "# Adding a key-value pair\n",
        "my_dict[\"name\"] = \"Alice\"\n",
        "my_dict[\"age\"] = 30\n",
        "\n",
        "print(my_dict)  # Output: {'name': 'Alice', 'age': 30}"
      ],
      "metadata": {
        "colab": {
          "base_uri": "https://localhost:8080/"
        },
        "id": "WL0mkCiwVEY0",
        "outputId": "6c900789-42f6-4069-d5c4-79fd177c85df"
      },
      "execution_count": 50,
      "outputs": [
        {
          "output_type": "stream",
          "name": "stdout",
          "text": [
            "{'name': 'Alice', 'age': 30}\n"
          ]
        }
      ]
    },
    {
      "cell_type": "markdown",
      "source": [
        "**2. Modifying Items in a Dictionary**\n",
        "To modify an item, you simply reassign a new value to an existing key.\n",
        "\n",
        "Example:"
      ],
      "metadata": {
        "id": "foI0WV0fVXb6"
      }
    },
    {
      "cell_type": "code",
      "source": [
        "my_dict = {\"name\": \"Alice\", \"age\": 30}\n",
        "\n",
        "# Modifying the value of the key \"age\"\n",
        "my_dict[\"age\"] = 31\n",
        "\n",
        "print(my_dict)  # Output: {'name': 'Alice', 'age': 31}"
      ],
      "metadata": {
        "colab": {
          "base_uri": "https://localhost:8080/"
        },
        "id": "9U1QVbv4VZ2M",
        "outputId": "cf5808a3-0376-4838-a690-d8b8a553c959"
      },
      "execution_count": 51,
      "outputs": [
        {
          "output_type": "stream",
          "name": "stdout",
          "text": [
            "{'name': 'Alice', 'age': 31}\n"
          ]
        }
      ]
    },
    {
      "cell_type": "markdown",
      "source": [
        "If the key does not exist, it will add a new key-value pair (just like adding)."
      ],
      "metadata": {
        "id": "bla_DvEzWhqy"
      }
    },
    {
      "cell_type": "code",
      "source": [
        "my_dict[\"city\"] = \"New York\"\n",
        "\n",
        "print(my_dict)  # Output: {'name': 'Alice', 'age': 31, 'city': 'New York'}"
      ],
      "metadata": {
        "colab": {
          "base_uri": "https://localhost:8080/"
        },
        "id": "L4ZNce2KWitU",
        "outputId": "af313025-60fb-45cc-d50e-9d75106df581"
      },
      "execution_count": 52,
      "outputs": [
        {
          "output_type": "stream",
          "name": "stdout",
          "text": [
            "{'name': 'Alice', 'age': 31, 'city': 'New York'}\n"
          ]
        }
      ]
    },
    {
      "cell_type": "markdown",
      "source": [
        "3. Deleting Items from a Dictionary\n",
        "You can remove items from a dictionary in a few different ways:\n",
        "\n",
        "a. Using 'del' Keyword\n",
        "Example:"
      ],
      "metadata": {
        "id": "ndndqTyKWo9y"
      }
    },
    {
      "cell_type": "code",
      "source": [
        "my_dict = {\"name\": \"Alice\", \"age\": 31, \"city\": \"New York\"}\n",
        "\n",
        "# Deleting the key-value pair for \"city\"\n",
        "del my_dict[\"city\"]\n",
        "\n",
        "print(my_dict)  # Output: {'name': 'Alice', 'age': 31}"
      ],
      "metadata": {
        "colab": {
          "base_uri": "https://localhost:8080/"
        },
        "id": "cMeZpiRwWsT7",
        "outputId": "a3844f1e-dd71-46d7-d78f-38cb35c7db26"
      },
      "execution_count": 53,
      "outputs": [
        {
          "output_type": "stream",
          "name": "stdout",
          "text": [
            "{'name': 'Alice', 'age': 31}\n"
          ]
        }
      ]
    },
    {
      "cell_type": "markdown",
      "source": [
        "b. Using '.pop()' Method\n",
        "The '.pop()' method removes the item with the specified key and returns its value."
      ],
      "metadata": {
        "id": "LQ1r8APQW0im"
      }
    },
    {
      "cell_type": "code",
      "source": [
        "my_dict = {\"name\": \"Alice\", \"age\": 31, \"city\": \"New York\"}\n",
        "\n",
        "# Removing \"age\" and returning its value\n",
        "age = my_dict.pop(\"age\")\n",
        "\n",
        "print(my_dict)  # Output: {'name': 'Alice', 'city': 'New York'}"
      ],
      "metadata": {
        "colab": {
          "base_uri": "https://localhost:8080/"
        },
        "id": "2utghl4gW6F0",
        "outputId": "7802134c-f059-4eaf-a5ab-6c4328852c2d"
      },
      "execution_count": 55,
      "outputs": [
        {
          "output_type": "stream",
          "name": "stdout",
          "text": [
            "{'name': 'Alice', 'city': 'New York'}\n"
          ]
        }
      ]
    },
    {
      "cell_type": "markdown",
      "source": [
        "c. Using '.popitem()' Method\n",
        "The '.popitem()' method removes and returns the last key-value pair in the dictionary."
      ],
      "metadata": {
        "id": "zXdF2AamXNhi"
      }
    },
    {
      "cell_type": "code",
      "source": [
        "my_dict = {\"name\": \"Alice\", \"age\": 31, \"city\": \"New York\"}\n",
        "\n",
        "# Removing the last item\n",
        "last_item = my_dict.popitem()\n",
        "\n",
        "print(last_item)  # Output: ('city', 'New York')\n",
        "print(my_dict)  # Output: {'name': 'Alice', 'age': 31}"
      ],
      "metadata": {
        "colab": {
          "base_uri": "https://localhost:8080/"
        },
        "id": "M5vfBPAHXVY1",
        "outputId": "a88cfb9c-3d29-4ab7-cd5c-676492ecf009"
      },
      "execution_count": 56,
      "outputs": [
        {
          "output_type": "stream",
          "name": "stdout",
          "text": [
            "('city', 'New York')\n",
            "{'name': 'Alice', 'age': 31}\n"
          ]
        }
      ]
    },
    {
      "cell_type": "markdown",
      "source": [
        "d. Using '.clear()' Method\n",
        "If you want to remove all items from a dictionary, use the '.clear()' method."
      ],
      "metadata": {
        "id": "Va_JxUxoYUYc"
      }
    },
    {
      "cell_type": "code",
      "source": [
        "my_dict = {\"name\": \"Alice\", \"age\": 31, \"city\": \"New York\"}\n",
        "\n",
        "# Clearing all items\n",
        "my_dict.clear()\n",
        "\n",
        "print(my_dict)  # Output: {}"
      ],
      "metadata": {
        "colab": {
          "base_uri": "https://localhost:8080/"
        },
        "id": "k-GwEoe9YWHM",
        "outputId": "79aaef86-c6dc-45b4-c4b0-43a69d231615"
      },
      "execution_count": 57,
      "outputs": [
        {
          "output_type": "stream",
          "name": "stdout",
          "text": [
            "{}\n"
          ]
        }
      ]
    },
    {
      "cell_type": "markdown",
      "source": [
        "# 8. Discuss the importance of dictionary keys being immutable and provide examples.\n",
        "\n",
        "**Importance of Dictionary Keys Being Immutable**\n",
        "\n",
        "In Python, dictionary keys must be immutable. This means that once you create the key, it cannot be changed. The reason for this is tied to how dictionaries work internally:\n",
        "\n",
        "1. How Dictionaries Work:\n",
        "\n",
        "A dictionary is like a real-world dictionary where you look up a word (the key) to find its meaning (the value). Python uses the key to quickly find the value associated with it. To do this efficiently, Python relies on the fact that the key does not change.\n",
        "\n",
        "2. Immutability Ensures Consistency:\n",
        "\n",
        "If a key could change after being added to a dictionary, it would mess up the way Python organizes and retrieves data. For instance, if Python stored your home address in a book but someone kept changing the address, finding your home would be confusing.\n",
        "\n",
        "3. Examples of Immutable Keys:\n",
        "\n",
        "**Strings, numbers, and tuples** are all immutable, so they can be used as dictionary keys."
      ],
      "metadata": {
        "id": "dCI_u2B8YhIU"
      }
    },
    {
      "cell_type": "code",
      "source": [
        "my_dict = {\n",
        "    \"name\": \"Alice\",  # String as a key\n",
        "    42: \"Answer to everything\",  # Number as a key\n",
        "    (1, 2): \"coordinates\"  # Tuple as a key\n",
        "}"
      ],
      "metadata": {
        "id": "JwAtAu2SYz-1"
      },
      "execution_count": 58,
      "outputs": []
    },
    {
      "cell_type": "markdown",
      "source": [
        "4. Examples of Mutable Data Types (Cannot Be Keys):\n",
        "\n",
        "Lists, dictionaries, and sets are mutable, so they cannot be used as dictionary keys."
      ],
      "metadata": {
        "id": "lgQDdTL5ZTh8"
      }
    },
    {
      "cell_type": "code",
      "source": [
        "my_dict = {}\n",
        "\n",
        "my_list = [1, 2, 3]\n",
        "# my_dict[my_list] = \"This won't work\"  # This will cause an error"
      ],
      "metadata": {
        "id": "_f2iQoUOZU8e"
      },
      "execution_count": 59,
      "outputs": []
    },
    {
      "cell_type": "markdown",
      "source": [
        "**Summary:**\n",
        "\n",
        "Dictionary keys must be immutable to ensure the dictionary can efficiently and reliably find and manage data. Immutable types like strings, numbers, and tuples can be keys, while mutable types like lists, dictionaries, and sets cannot. This immutability is crucial for maintaining the performance and consistency of dictionaries in Python."
      ],
      "metadata": {
        "id": "zsrnVA2nZoR4"
      }
    }
  ]
}